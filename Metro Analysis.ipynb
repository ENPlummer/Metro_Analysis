{
 "cells": [
  {
   "cell_type": "code",
   "execution_count": 1,
   "metadata": {},
   "outputs": [],
   "source": [
    "# Import Dependencies.\n",
    "\n",
    "import numpy as np\n",
    "import pandas as pd\n",
    "import datetime as dt\n",
    "\n",
    "# Python SQL toolkit and Object Relational Mapper\n",
    "import sqlalchemy\n",
    "from sqlalchemy.ext.automap import automap_base\n",
    "from sqlalchemy.orm import Session\n",
    "from sqlalchemy import create_engine, func"
   ]
  },
  {
   "cell_type": "code",
   "execution_count": 2,
   "metadata": {},
   "outputs": [],
   "source": [
    "engine = create_engine(\"sqlite:///metroridership.sqlite\")"
   ]
  },
  {
   "cell_type": "code",
   "execution_count": 3,
   "metadata": {},
   "outputs": [
    {
     "data": {
      "text/plain": [
       "['metro_ridership', 'metro_timeperiod_ridership']"
      ]
     },
     "execution_count": 3,
     "metadata": {},
     "output_type": "execute_result"
    }
   ],
   "source": [
    "#Reflect an exisiting database into a new model.\n",
    "\n",
    "Base = automap_base()\n",
    "\n",
    "#Reflect the tables.\n",
    "\n",
    "Base.prepare(engine, reflect=True)\n",
    "\n",
    "#Show the classes that the automap found.\n",
    "\n",
    "Base.classes.keys()"
   ]
  },
  {
   "cell_type": "code",
   "execution_count": 4,
   "metadata": {},
   "outputs": [],
   "source": [
    "# Save a reference to the metro_ridership table as \"Ridership\".\n",
    "\n",
    "Ridership = Base.classes.metro_ridership\n",
    "\n",
    "# Save a reference to the metro_timeperiod table as \"TimePeriod\".\n",
    "\n",
    "Timeperiod = Base.classes.metro_timeperiod_ridership"
   ]
  },
  {
   "cell_type": "code",
   "execution_count": 5,
   "metadata": {},
   "outputs": [],
   "source": [
    "# Create a datbase session object.\n",
    "\n",
    "session = Session(engine)"
   ]
  },
  {
   "cell_type": "code",
   "execution_count": 6,
   "metadata": {},
   "outputs": [
    {
     "data": {
      "text/plain": [
       "{'DATEMONTHINT': 201009,\n",
       " 'RIDERS_PER_WEEKDAY': 3667.3,\n",
       " 'STATION': 'Addison Road',\n",
       " '_sa_instance_state': <sqlalchemy.orm.state.InstanceState at 0x10f37f0b8>,\n",
       " 'id': 1}"
      ]
     },
     "execution_count": 6,
     "metadata": {},
     "output_type": "execute_result"
    }
   ],
   "source": [
    "first_row = session.query(Ridership).first()\n",
    "first_row.__dict__"
   ]
  },
  {
   "cell_type": "code",
   "execution_count": 7,
   "metadata": {},
   "outputs": [
    {
     "data": {
      "text/plain": [
       "{'DATEMONTHINT': 201009,\n",
       " 'PERIOD': 'AM Peak',\n",
       " 'RIDERS_PER_WEEKDAY': 2303.7,\n",
       " 'STATION': 'Addison Road',\n",
       " '_sa_instance_state': <sqlalchemy.orm.state.InstanceState at 0x10f3c8438>,\n",
       " 'id': 1}"
      ]
     },
     "execution_count": 7,
     "metadata": {},
     "output_type": "execute_result"
    }
   ],
   "source": [
    "first_row_2 = session.query(Timeperiod).first()\n",
    "first_row_2.__dict__"
   ]
  },
  {
   "cell_type": "code",
   "execution_count": 8,
   "metadata": {},
   "outputs": [
    {
     "data": {
      "text/plain": [
       "[('Addison Road'),\n",
       " ('Anacostia'),\n",
       " ('Archives-Navy Memorial'),\n",
       " ('Arlington Cemetery'),\n",
       " ('Ballston'),\n",
       " ('Benning Road'),\n",
       " ('Bethesda'),\n",
       " ('Braddock Road'),\n",
       " ('Branch Avenue'),\n",
       " ('Brookland'),\n",
       " ('Capitol Heights'),\n",
       " ('Capitol South'),\n",
       " ('Cheverly'),\n",
       " ('Clarendon'),\n",
       " ('Cleveland Park'),\n",
       " ('College Park-U of MD'),\n",
       " ('Columbia Heights'),\n",
       " ('Congress Heights'),\n",
       " ('Court House'),\n",
       " ('Crystal City'),\n",
       " ('Deanwood'),\n",
       " ('Dunn Loring'),\n",
       " ('Dupont Circle'),\n",
       " ('East Falls Church'),\n",
       " ('Eastern Market'),\n",
       " ('Eisenhower Avenue'),\n",
       " ('Farragut North'),\n",
       " ('Farragut West'),\n",
       " ('Federal Center SW'),\n",
       " ('Federal Triangle'),\n",
       " ('Foggy Bottom'),\n",
       " ('Forest Glen'),\n",
       " ('Fort Totten'),\n",
       " ('Franconia-Springfield'),\n",
       " ('Friendship Heights'),\n",
       " ('Gallery Place-Chinatown'),\n",
       " ('Georgia Avenue-Petworth'),\n",
       " ('Glenmont'),\n",
       " ('Greenbelt'),\n",
       " ('Greensboro'),\n",
       " ('Grosvenor'),\n",
       " ('Huntington'),\n",
       " ('Judiciary Square'),\n",
       " ('King St-Old Town'),\n",
       " (\"L'Enfant Plaza\"),\n",
       " ('Landover'),\n",
       " ('Largo Town Center'),\n",
       " ('McLean'),\n",
       " ('McPherson Square'),\n",
       " ('Medical Center'),\n",
       " ('Metro Center'),\n",
       " ('Minnesota Avenue'),\n",
       " ('Morgan Blvd.'),\n",
       " ('Mt. Vernon Square-UDC'),\n",
       " ('Navy Yard-Ballpark'),\n",
       " ('Naylor Road'),\n",
       " ('New Carrollton'),\n",
       " ('NoMa-Gallaudet U'),\n",
       " ('Pentagon'),\n",
       " ('Pentagon City'),\n",
       " ('Potomac Avenue'),\n",
       " (\"Prince George's Plaza\"),\n",
       " ('Reagan Washington National Airport'),\n",
       " ('Rhode Island Avenue'),\n",
       " ('Rockville'),\n",
       " ('Rosslyn'),\n",
       " ('Shady Grove'),\n",
       " ('Shaw-Howard University'),\n",
       " ('Silver Spring'),\n",
       " ('Smithsonian'),\n",
       " ('Southern Avenue'),\n",
       " ('Spring Hill'),\n",
       " ('Stadium-Armory'),\n",
       " ('Suitland'),\n",
       " ('Takoma'),\n",
       " ('Tenleytown-AU'),\n",
       " ('Twinbrook'),\n",
       " ('Tysons Corner'),\n",
       " ('U Street-Cardozo'),\n",
       " ('Union Station'),\n",
       " ('Van Dorn Street'),\n",
       " ('Van Ness-UDC'),\n",
       " ('Vienna'),\n",
       " ('Virginia Square-GMU'),\n",
       " ('Waterfront'),\n",
       " ('West Falls Church'),\n",
       " ('West Hyattsville'),\n",
       " ('Wheaton'),\n",
       " ('White Flint'),\n",
       " ('Wiehle'),\n",
       " ('Woodley Park-Zoo')]"
      ]
     },
     "execution_count": 8,
     "metadata": {},
     "output_type": "execute_result"
    }
   ],
   "source": [
    "stations = session.query(Ridership.STATION).group_by(Ridership.STATION).all()\n",
    "stations"
   ]
  },
  {
   "cell_type": "code",
   "execution_count": 9,
   "metadata": {},
   "outputs": [
    {
     "data": {
      "text/plain": [
       "[('Union Station', 31481.807575757575),\n",
       " ('Metro Center', 27283.763636363637),\n",
       " ('Gallery Place-Chinatown', 25895.813636363644),\n",
       " ('Farragut North', 24265.968181818185),\n",
       " ('Farragut West', 21778.980303030305),\n",
       " ('Foggy Bottom', 21255.2393939394),\n",
       " (\"L'Enfant Plaza\", 20265.175757575755),\n",
       " ('Dupont Circle', 20246.119696969694),\n",
       " ('Pentagon', 15787.593939393932),\n",
       " ('McPherson Square', 15756.04696969697),\n",
       " ('Rosslyn', 15460.854545454538),\n",
       " ('Pentagon City', 15074.51515151515),\n",
       " ('Shady Grove', 12889.995454545455),\n",
       " ('Silver Spring', 12710.677272727275),\n",
       " ('Crystal City', 12683.169696969699),\n",
       " ('Vienna', 12425.196969696963),\n",
       " ('Columbia Heights', 12177.016666666666),\n",
       " ('Ballston', 11515.807575757575),\n",
       " ('Smithsonian', 10887.47575757576),\n",
       " ('Bethesda', 10332.924242424244),\n",
       " ('Friendship Heights', 9255.365151515149),\n",
       " ('Judiciary Square', 9012.972727272727),\n",
       " ('Archives-Navy Memorial', 8937.07727272727),\n",
       " ('Federal Triangle', 8932.03181818182),\n",
       " ('New Carrollton', 8890.13181818182),\n",
       " ('King St-Old Town', 8563.609090909093),\n",
       " ('Franconia-Springfield', 8306.418181818182),\n",
       " ('Huntington', 8250.006060606062),\n",
       " ('West Falls Church', 8222.489393939395),\n",
       " ('Navy Yard-Ballpark', 8128.203030303029),\n",
       " ('NoMa-Gallaudet U', 8087.780303030305),\n",
       " ('Capitol South', 8041.365151515151),\n",
       " ('Court House', 7398.727272727274),\n",
       " ('Fort Totten', 7381.598484848485),\n",
       " ('Woodley Park-Zoo', 7139.489393939395),\n",
       " ('Anacostia', 7126.998484848486),\n",
       " ('U Street-Cardozo', 7055.924242424243),\n",
       " ('Tenleytown-AU', 6969.2590909090895),\n",
       " ('Brookland', 6728.457575757574),\n",
       " ('Van Ness-UDC', 6672.422727272727),\n",
       " ('Greenbelt', 6486.257575757576),\n",
       " ('Branch Avenue', 6283.40909090909),\n",
       " ('Reagan Washington National Airport', 6111.6606060606055),\n",
       " ('Wiehle', 6069.376000000001),\n",
       " ('Georgia Avenue-Petworth', 5962.6833333333325),\n",
       " ('Eastern Market', 5933.756060606059),\n",
       " ('Glenmont', 5889.021212121214),\n",
       " ('Medical Center', 5841.4530303030315),\n",
       " ('Suitland', 5762.116666666666),\n",
       " ('Takoma', 5693.59696969697),\n",
       " ('Federal Center SW', 5651.609090909089),\n",
       " ('Grosvenor', 5580.26515151515),\n",
       " ('Rhode Island Avenue', 5473.766666666666),\n",
       " ('Southern Avenue', 5305.5318181818175),\n",
       " (\"Prince George's Plaza\", 4986.554545454545),\n",
       " ('Shaw-Howard University', 4901.666666666667),\n",
       " ('Largo Town Center', 4834.959090909091),\n",
       " ('Dunn Loring', 4830.633333333332),\n",
       " ('Rockville', 4627.190909090908),\n",
       " ('Clarendon', 4574.533333333333),\n",
       " ('College Park-U of MD', 4531.748484848486),\n",
       " ('Braddock Road', 4431.3090909090915),\n",
       " ('Cleveland Park', 4413.39090909091),\n",
       " ('Twinbrook', 4377.124242424244),\n",
       " ('Mt. Vernon Square-UDC', 4238.868181818181),\n",
       " ('Wheaton', 4126.212121212121),\n",
       " ('Waterfront', 4066.31212121212),\n",
       " ('East Falls Church', 4055.9560606060604),\n",
       " ('White Flint', 3883.524242424241),\n",
       " ('Virginia Square-GMU', 3830.6030303030307),\n",
       " ('Potomac Avenue', 3746.5090909090914),\n",
       " ('West Hyattsville', 3724.919696969697),\n",
       " ('Van Dorn Street', 3367.7075757575753),\n",
       " ('Addison Road', 3330.172727272728),\n",
       " ('Benning Road', 3042.980303030304),\n",
       " ('Naylor Road', 2909.8272727272742),\n",
       " ('Minnesota Avenue', 2888.4787878787874),\n",
       " ('Stadium-Armory', 2848.821212121212),\n",
       " ('Congress Heights', 2714.277272727273),\n",
       " ('Forest Glen', 2329.180303030303),\n",
       " ('Tysons Corner', 2306.84),\n",
       " ('Landover', 2100.4439393939397),\n",
       " ('Capitol Heights', 2018.1015151515148),\n",
       " ('Morgan Blvd.', 1950.4833333333336),\n",
       " ('Eisenhower Avenue', 1852.7227272727273),\n",
       " ('Deanwood', 1642.5833333333328),\n",
       " ('Cheverly', 1430.4106060606064),\n",
       " ('Arlington Cemetery', 1295.2939393939394),\n",
       " ('McLean', 1142.273076923077),\n",
       " ('Spring Hill', 1076.072727272727),\n",
       " ('Greensboro', 808.4666666666667)]"
      ]
     },
     "execution_count": 9,
     "metadata": {},
     "output_type": "execute_result"
    }
   ],
   "source": [
    "average = session.query(Ridership.STATION, func.avg(Ridership.RIDERS_PER_WEEKDAY)).group_by(Ridership.STATION).\\\n",
    "         order_by(func.avg(Ridership.RIDERS_PER_WEEKDAY).desc()).all()\n",
    "average"
   ]
  },
  {
   "cell_type": "code",
   "execution_count": 10,
   "metadata": {},
   "outputs": [
    {
     "data": {
      "text/plain": [
       "[('Union Station', 31481.807575757575),\n",
       " ('Metro Center', 27283.763636363637),\n",
       " ('Gallery Place-Chinatown', 25895.813636363644),\n",
       " ('Farragut North', 24265.968181818185),\n",
       " ('Farragut West', 21778.980303030305),\n",
       " ('Foggy Bottom', 21255.2393939394),\n",
       " (\"L'Enfant Plaza\", 20265.175757575755),\n",
       " ('Dupont Circle', 20246.119696969694),\n",
       " ('Pentagon', 15787.593939393932),\n",
       " ('McPherson Square', 15756.04696969697),\n",
       " ('Rosslyn', 15460.854545454538),\n",
       " ('Pentagon City', 15074.51515151515),\n",
       " ('Shady Grove', 12889.995454545455),\n",
       " ('Silver Spring', 12710.677272727275),\n",
       " ('Crystal City', 12683.169696969699),\n",
       " ('Vienna', 12425.196969696963),\n",
       " ('Columbia Heights', 12177.016666666666),\n",
       " ('Ballston', 11515.807575757575),\n",
       " ('Smithsonian', 10887.47575757576),\n",
       " ('Bethesda', 10332.924242424244),\n",
       " ('Friendship Heights', 9255.365151515149),\n",
       " ('Judiciary Square', 9012.972727272727),\n",
       " ('Archives-Navy Memorial', 8937.07727272727),\n",
       " ('Federal Triangle', 8932.03181818182),\n",
       " ('New Carrollton', 8890.13181818182)]"
      ]
     },
     "execution_count": 10,
     "metadata": {},
     "output_type": "execute_result"
    }
   ],
   "source": [
    "average_top_25 = session.query(Ridership.STATION, func.avg(Ridership.RIDERS_PER_WEEKDAY)).group_by(Ridership.STATION).\\\n",
    "         order_by(func.avg(Ridership.RIDERS_PER_WEEKDAY).desc()).limit(25).all()\n",
    "average_top_25"
   ]
  },
  {
   "cell_type": "code",
   "execution_count": 11,
   "metadata": {},
   "outputs": [
    {
     "data": {
      "text/plain": [
       "[('Greensboro', 808.4666666666667),\n",
       " ('Spring Hill', 1076.072727272727),\n",
       " ('McLean', 1142.273076923077),\n",
       " ('Arlington Cemetery', 1295.2939393939394),\n",
       " ('Cheverly', 1430.4106060606064),\n",
       " ('Deanwood', 1642.5833333333328),\n",
       " ('Eisenhower Avenue', 1852.7227272727273),\n",
       " ('Morgan Blvd.', 1950.4833333333336),\n",
       " ('Capitol Heights', 2018.1015151515148),\n",
       " ('Landover', 2100.4439393939397),\n",
       " ('Tysons Corner', 2306.84),\n",
       " ('Forest Glen', 2329.180303030303),\n",
       " ('Congress Heights', 2714.277272727273),\n",
       " ('Stadium-Armory', 2848.821212121212),\n",
       " ('Minnesota Avenue', 2888.4787878787874),\n",
       " ('Naylor Road', 2909.8272727272742),\n",
       " ('Benning Road', 3042.980303030304),\n",
       " ('Addison Road', 3330.172727272728),\n",
       " ('Van Dorn Street', 3367.7075757575753),\n",
       " ('West Hyattsville', 3724.919696969697),\n",
       " ('Potomac Avenue', 3746.5090909090914),\n",
       " ('Virginia Square-GMU', 3830.6030303030307),\n",
       " ('White Flint', 3883.524242424241),\n",
       " ('East Falls Church', 4055.9560606060604),\n",
       " ('Waterfront', 4066.31212121212)]"
      ]
     },
     "execution_count": 11,
     "metadata": {},
     "output_type": "execute_result"
    }
   ],
   "source": [
    "average_bottom_25 = session.query(Ridership.STATION, func.avg(Ridership.RIDERS_PER_WEEKDAY)).group_by(Ridership.STATION).\\\n",
    "         order_by(func.avg(Ridership.RIDERS_PER_WEEKDAY).asc()).limit(25).all()\n",
    "average_bottom_25"
   ]
  },
  {
   "cell_type": "code",
   "execution_count": 12,
   "metadata": {},
   "outputs": [
    {
     "data": {
      "text/plain": [
       "[('Union Station', 2077799.3),\n",
       " ('Metro Center', 1800728.4000000001),\n",
       " ('Gallery Place-Chinatown', 1709123.7000000004),\n",
       " ('Farragut North', 1601553.9000000001),\n",
       " ('Farragut West', 1437412.7000000002),\n",
       " ('Foggy Bottom', 1402845.8000000003),\n",
       " (\"L'Enfant Plaza\", 1337501.5999999999),\n",
       " ('Dupont Circle', 1336243.9),\n",
       " ('Pentagon', 1041981.1999999995),\n",
       " ('McPherson Square', 1039899.1000000001),\n",
       " ('Rosslyn', 1020416.3999999996),\n",
       " ('Pentagon City', 994917.9999999999),\n",
       " ('Shady Grove', 850739.7000000001),\n",
       " ('Silver Spring', 838904.7000000001),\n",
       " ('Crystal City', 837089.2000000001),\n",
       " ('Vienna', 820062.9999999995),\n",
       " ('Columbia Heights', 803683.1),\n",
       " ('Ballston', 760043.2999999999),\n",
       " ('Smithsonian', 718573.4000000001),\n",
       " ('Bethesda', 681973.0000000001),\n",
       " ('Friendship Heights', 610854.0999999999),\n",
       " ('Judiciary Square', 594856.2),\n",
       " ('Archives-Navy Memorial', 589847.0999999999),\n",
       " ('Federal Triangle', 589514.1000000001),\n",
       " ('New Carrollton', 586748.7000000002),\n",
       " ('King St-Old Town', 565198.2000000001),\n",
       " ('Franconia-Springfield', 548223.6000000001),\n",
       " ('Huntington', 544500.4),\n",
       " ('West Falls Church', 542684.3),\n",
       " ('Navy Yard-Ballpark', 536461.3999999999),\n",
       " ('NoMa-Gallaudet U', 533793.5000000001),\n",
       " ('Capitol South', 530730.1),\n",
       " ('Court House', 488316.00000000006),\n",
       " ('Fort Totten', 487185.5),\n",
       " ('Woodley Park-Zoo', 471206.3000000001),\n",
       " ('Anacostia', 470381.9000000001),\n",
       " ('U Street-Cardozo', 465691.00000000006),\n",
       " ('Tenleytown-AU', 459971.0999999999),\n",
       " ('Brookland', 444078.1999999999),\n",
       " ('Van Ness-UDC', 440379.89999999997),\n",
       " ('Greenbelt', 428093.0),\n",
       " ('Branch Avenue', 414704.99999999994),\n",
       " ('Reagan Washington National Airport', 403369.6),\n",
       " ('Georgia Avenue-Petworth', 393537.0999999999),\n",
       " ('Eastern Market', 391627.8999999999),\n",
       " ('Glenmont', 388675.40000000014),\n",
       " ('Medical Center', 385535.9000000001),\n",
       " ('Suitland', 380299.69999999995),\n",
       " ('Takoma', 375777.4),\n",
       " ('Federal Center SW', 373006.1999999999),\n",
       " ('Grosvenor', 368297.4999999999),\n",
       " ('Rhode Island Avenue', 361268.6),\n",
       " ('Southern Avenue', 350165.1),\n",
       " (\"Prince George's Plaza\", 329112.6),\n",
       " ('Shaw-Howard University', 323510.0),\n",
       " ('Largo Town Center', 319107.3),\n",
       " ('Dunn Loring', 318821.79999999993),\n",
       " ('Rockville', 305394.5999999999),\n",
       " ('Clarendon', 301919.19999999995),\n",
       " ('College Park-U of MD', 299095.4000000001),\n",
       " ('Braddock Road', 292466.4),\n",
       " ('Cleveland Park', 291283.80000000005),\n",
       " ('Twinbrook', 288890.20000000007),\n",
       " ('Mt. Vernon Square-UDC', 279765.3),\n",
       " ('Wheaton', 272330.0),\n",
       " ('Waterfront', 268376.5999999999),\n",
       " ('East Falls Church', 267693.1),\n",
       " ('White Flint', 256312.59999999992),\n",
       " ('Virginia Square-GMU', 252819.80000000002),\n",
       " ('Potomac Avenue', 247269.60000000003),\n",
       " ('West Hyattsville', 245844.69999999998),\n",
       " ('Van Dorn Street', 222268.69999999998),\n",
       " ('Addison Road', 219791.40000000005),\n",
       " ('Benning Road', 200836.70000000007),\n",
       " ('Naylor Road', 192048.6000000001),\n",
       " ('Minnesota Avenue', 190639.59999999998),\n",
       " ('Stadium-Armory', 188022.19999999998),\n",
       " ('Congress Heights', 179142.30000000002),\n",
       " ('Forest Glen', 153725.9),\n",
       " ('Wiehle', 151734.40000000002),\n",
       " ('Landover', 138629.30000000002),\n",
       " ('Capitol Heights', 133194.69999999998),\n",
       " ('Morgan Blvd.', 128731.90000000001),\n",
       " ('Eisenhower Avenue', 122279.7),\n",
       " ('Deanwood', 108410.49999999997),\n",
       " ('Cheverly', 94407.10000000002),\n",
       " ('Arlington Cemetery', 85489.4),\n",
       " ('Tysons Corner', 57671.0),\n",
       " ('McLean', 29699.100000000002),\n",
       " ('Spring Hill', 23673.599999999995),\n",
       " ('Greensboro', 19403.2)]"
      ]
     },
     "execution_count": 12,
     "metadata": {},
     "output_type": "execute_result"
    }
   ],
   "source": [
    "total = session.query(Ridership.STATION, func.sum(Ridership.RIDERS_PER_WEEKDAY)).group_by(Ridership.STATION).\\\n",
    "         order_by(func.sum(Ridership.RIDERS_PER_WEEKDAY).desc()).all()\n",
    "total"
   ]
  },
  {
   "cell_type": "code",
   "execution_count": 13,
   "metadata": {},
   "outputs": [
    {
     "data": {
      "text/plain": [
       "[('Union Station', 2077799.3),\n",
       " ('Metro Center', 1800728.4000000001),\n",
       " ('Gallery Place-Chinatown', 1709123.7000000004),\n",
       " ('Farragut North', 1601553.9000000001),\n",
       " ('Farragut West', 1437412.7000000002),\n",
       " ('Foggy Bottom', 1402845.8000000003),\n",
       " (\"L'Enfant Plaza\", 1337501.5999999999),\n",
       " ('Dupont Circle', 1336243.9),\n",
       " ('Pentagon', 1041981.1999999995),\n",
       " ('McPherson Square', 1039899.1000000001),\n",
       " ('Rosslyn', 1020416.3999999996),\n",
       " ('Pentagon City', 994917.9999999999),\n",
       " ('Shady Grove', 850739.7000000001),\n",
       " ('Silver Spring', 838904.7000000001),\n",
       " ('Crystal City', 837089.2000000001),\n",
       " ('Vienna', 820062.9999999995),\n",
       " ('Columbia Heights', 803683.1),\n",
       " ('Ballston', 760043.2999999999),\n",
       " ('Smithsonian', 718573.4000000001),\n",
       " ('Bethesda', 681973.0000000001),\n",
       " ('Friendship Heights', 610854.0999999999),\n",
       " ('Judiciary Square', 594856.2),\n",
       " ('Archives-Navy Memorial', 589847.0999999999),\n",
       " ('Federal Triangle', 589514.1000000001),\n",
       " ('New Carrollton', 586748.7000000002)]"
      ]
     },
     "execution_count": 13,
     "metadata": {},
     "output_type": "execute_result"
    }
   ],
   "source": [
    "top_25_total = session.query(Ridership.STATION, func.sum(Ridership.RIDERS_PER_WEEKDAY)).group_by(Ridership.STATION).\\\n",
    "         order_by(func.sum(Ridership.RIDERS_PER_WEEKDAY).desc()).limit(25).all()\n",
    "top_25_total"
   ]
  },
  {
   "cell_type": "code",
   "execution_count": 14,
   "metadata": {},
   "outputs": [
    {
     "data": {
      "text/plain": [
       "[('Greensboro', 19403.2),\n",
       " ('Spring Hill', 23673.599999999995),\n",
       " ('McLean', 29699.100000000002),\n",
       " ('Tysons Corner', 57671.0),\n",
       " ('Arlington Cemetery', 85489.4),\n",
       " ('Cheverly', 94407.10000000002),\n",
       " ('Deanwood', 108410.49999999997),\n",
       " ('Eisenhower Avenue', 122279.7),\n",
       " ('Morgan Blvd.', 128731.90000000001),\n",
       " ('Capitol Heights', 133194.69999999998),\n",
       " ('Landover', 138629.30000000002),\n",
       " ('Wiehle', 151734.40000000002),\n",
       " ('Forest Glen', 153725.9),\n",
       " ('Congress Heights', 179142.30000000002),\n",
       " ('Stadium-Armory', 188022.19999999998),\n",
       " ('Minnesota Avenue', 190639.59999999998),\n",
       " ('Naylor Road', 192048.6000000001),\n",
       " ('Benning Road', 200836.70000000007),\n",
       " ('Addison Road', 219791.40000000005),\n",
       " ('Van Dorn Street', 222268.69999999998),\n",
       " ('West Hyattsville', 245844.69999999998),\n",
       " ('Potomac Avenue', 247269.60000000003),\n",
       " ('Virginia Square-GMU', 252819.80000000002),\n",
       " ('White Flint', 256312.59999999992),\n",
       " ('East Falls Church', 267693.1)]"
      ]
     },
     "execution_count": 14,
     "metadata": {},
     "output_type": "execute_result"
    }
   ],
   "source": [
    "bottom_25_total = session.query(Ridership.STATION, func.sum(Ridership.RIDERS_PER_WEEKDAY)).group_by(Ridership.STATION).\\\n",
    "         order_by(func.sum(Ridership.RIDERS_PER_WEEKDAY).asc()).limit(25).all()\n",
    "bottom_25_total"
   ]
  },
  {
   "cell_type": "code",
   "execution_count": 15,
   "metadata": {},
   "outputs": [
    {
     "data": {
      "text/plain": [
       "[('AM Peak', 2614.0388879295515),\n",
       " ('Evening', 964.2328484848478),\n",
       " ('Late Night Peak', 32.57563142309714),\n",
       " ('Midday', 1564.7457808455638),\n",
       " ('PM Peak', 2852.6680041508043)]"
      ]
     },
     "execution_count": 15,
     "metadata": {},
     "output_type": "execute_result"
    }
   ],
   "source": [
    "timeperiod_average = session.query(Timeperiod.PERIOD, func.avg(Timeperiod.RIDERS_PER_WEEKDAY)).\\\n",
    "                        group_by(Timeperiod.PERIOD).all()\n",
    "timeperiod_average"
   ]
  },
  {
   "cell_type": "code",
   "execution_count": 16,
   "metadata": {},
   "outputs": [
    {
     "data": {
      "text/plain": [
       "[('AM Peak', 15137899.200000033),\n",
       " ('Evening', 5568444.6999999955),\n",
       " ('Late Night Peak', 187016.7000000007),\n",
       " ('Midday', 9067701.800000042),\n",
       " ('PM Peak', 16494126.39999995)]"
      ]
     },
     "execution_count": 16,
     "metadata": {},
     "output_type": "execute_result"
    }
   ],
   "source": [
    "timeperiod_total = session.query(Timeperiod.PERIOD, func.sum(Timeperiod.RIDERS_PER_WEEKDAY)).\\\n",
    "                        group_by(Timeperiod.PERIOD).all()\n",
    "timeperiod_total"
   ]
  },
  {
   "cell_type": "code",
   "execution_count": null,
   "metadata": {},
   "outputs": [],
   "source": []
  }
 ],
 "metadata": {
  "kernelspec": {
   "display_name": "Python 3",
   "language": "python",
   "name": "python3"
  },
  "language_info": {
   "codemirror_mode": {
    "name": "ipython",
    "version": 3
   },
   "file_extension": ".py",
   "mimetype": "text/x-python",
   "name": "python",
   "nbconvert_exporter": "python",
   "pygments_lexer": "ipython3",
   "version": "3.6.4"
  }
 },
 "nbformat": 4,
 "nbformat_minor": 2
}
